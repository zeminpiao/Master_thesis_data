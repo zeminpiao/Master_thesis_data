{
 "cells": [
  {
   "cell_type": "code",
   "execution_count": 1,
   "metadata": {
    "collapsed": false
   },
   "outputs": [
    {
     "name": "stderr",
     "output_type": "stream",
     "text": [
      "WARNING:dxchange.reader:netCDF4 module not found\n"
     ]
    }
   ],
   "source": [
    "from calculate_tools import *\n",
    "import numpy\n",
    "#import mac\n",
    "\n",
    "from PIL import Image\n",
    "#import numpy\n",
    "#numpy.set_printoptions(threshold=numpy.nan)\n",
    "import matplotlib.pyplot as plt\n",
    "import matplotlib.patches as patches\n",
    "from scipy import ndimage\n",
    "import scipy\n",
    "import scipy.io as sio\n",
    "#from sklearn.metrics import mean_squared_error\n",
    "import operator\n",
    "import os\n",
    "import dxchange\n",
    "%matplotlib notebook"
   ]
  },
  {
   "cell_type": "code",
   "execution_count": 7,
   "metadata": {
    "collapsed": false
   },
   "outputs": [
    {
     "name": "stdout",
     "output_type": "stream",
     "text": [
      "[10015.1554, 11920.579399999999, 14000.1234, 16253.787400000001, 18681.5714, 21283.4754, 24059.499400000004, 27009.643399999997, 30133.9074, 33432.2914]\n"
     ]
    }
   ],
   "source": [
    "global dataset_se\n",
    "dataset_se = numpy.zeros([516, 516, 20])\n",
    "global dataset_in\n",
    "dataset_in = numpy.zeros([516, 516, 20])\n",
    "global data_se_mf\n",
    "global data_in_mf\n",
    "#Create the Energy axis corresponding to the Threshold value\n",
    "Energy_Value = [(0.0008706*i*i + 0.1*i+3.392)*1000 for i in range(47, 147, 10)]\n",
    "print Energy_Value"
   ]
  },
  {
   "cell_type": "code",
   "execution_count": 8,
   "metadata": {
    "collapsed": false
   },
   "outputs": [
    {
     "data": {
      "text/plain": [
       "array([ 26.0965254 ,  15.64068642,   9.74358583,   6.28641886,\n",
       "         4.19029037,   2.88104047,   2.04075098,   1.48777879,\n",
       "         1.1154914 ,   0.85946925])"
      ]
     },
     "execution_count": 8,
     "metadata": {},
     "output_type": "execute_result"
    }
   ],
   "source": [
    "theoretical_spectrum('Al', Energy_Value)"
   ]
  },
  {
   "cell_type": "code",
   "execution_count": 3,
   "metadata": {
    "collapsed": false
   },
   "outputs": [
    {
     "name": "stderr",
     "output_type": "stream",
     "text": [
      "calculate_tools.py:47: RuntimeWarning: divide by zero encountered in log\n",
      "  data_se[:,:,ii] = numpy.subtract(numpy.log(data_subtr_ob[:,:,ii]), numpy.log(data_subtr_separate[:,:,ii]))\n",
      "calculate_tools.py:47: RuntimeWarning: invalid value encountered in log\n",
      "  data_se[:,:,ii] = numpy.subtract(numpy.log(data_subtr_ob[:,:,ii]), numpy.log(data_subtr_separate[:,:,ii]))\n",
      "calculate_tools.py:47: RuntimeWarning: invalid value encountered in subtract\n",
      "  data_se[:,:,ii] = numpy.subtract(numpy.log(data_subtr_ob[:,:,ii]), numpy.log(data_subtr_separate[:,:,ii]))\n",
      "calculate_tools.py:63: RuntimeWarning: divide by zero encountered in log\n",
      "  data_in[:,:,ii] = numpy.subtract(numpy.log(data_subtr_ob[:,:,ii]), numpy.log(data_subtr_interlacing[:,:,ii]))\n",
      "calculate_tools.py:63: RuntimeWarning: invalid value encountered in log\n",
      "  data_in[:,:,ii] = numpy.subtract(numpy.log(data_subtr_ob[:,:,ii]), numpy.log(data_subtr_interlacing[:,:,ii]))\n",
      "calculate_tools.py:63: RuntimeWarning: invalid value encountered in subtract\n",
      "  data_in[:,:,ii] = numpy.subtract(numpy.log(data_subtr_ob[:,:,ii]), numpy.log(data_subtr_interlacing[:,:,ii]))\n"
     ]
    }
   ],
   "source": [
    "data_se, data_in, data_se_mf, data_in_mf = data_initialization(dataset_se, dataset_in)"
   ]
  },
  {
   "cell_type": "code",
   "execution_count": null,
   "metadata": {
    "collapsed": false
   },
   "outputs": [],
   "source": [
    "coords = choose_region('separate')"
   ]
  },
  {
   "cell_type": "code",
   "execution_count": null,
   "metadata": {
    "collapsed": false
   },
   "outputs": [],
   "source": [
    "show_spectrum_region(coords[0], coords[1], 'separate', data_se, data_in, Energy_Value)"
   ]
  },
  {
   "cell_type": "code",
   "execution_count": null,
   "metadata": {
    "collapsed": false
   },
   "outputs": [],
   "source": [
    "show_spectrum_region(coords[0], coords[1], 'separate', data_se_mf, data_in_mf, Energy_Value)"
   ]
  },
  {
   "cell_type": "code",
   "execution_count": null,
   "metadata": {
    "collapsed": false
   },
   "outputs": [],
   "source": [
    "show_average_and_variance(coords[0], coords[1], 'separate', data_se, data_in, Energy_Value)"
   ]
  },
  {
   "cell_type": "code",
   "execution_count": null,
   "metadata": {
    "collapsed": false
   },
   "outputs": [],
   "source": [
    "show_average_and_variance(coords[0], coords[1], 'separate', data_se_mf, data_in_mf, Energy_Value)"
   ]
  },
  {
   "cell_type": "code",
   "execution_count": null,
   "metadata": {
    "collapsed": false,
    "scrolled": true
   },
   "outputs": [],
   "source": [
    "for i in range(1,10):\n",
    "    plt.clf()\n",
    "    plt.cla()\n",
    "    plt.close()\n",
    "    "
   ]
  }
 ],
 "metadata": {
  "kernelspec": {
   "display_name": "Python 2",
   "language": "python",
   "name": "python2"
  },
  "language_info": {
   "codemirror_mode": {
    "name": "ipython",
    "version": 2
   },
   "file_extension": ".py",
   "mimetype": "text/x-python",
   "name": "python",
   "nbconvert_exporter": "python",
   "pygments_lexer": "ipython2",
   "version": "2.7.13"
  }
 },
 "nbformat": 4,
 "nbformat_minor": 2
}
