{
 "cells": [
  {
   "cell_type": "code",
   "execution_count": null,
   "metadata": {
    "collapsed": false
   },
   "outputs": [],
   "source": [
    "from calculate_tools import *\n",
    "import numpy\n",
    "\n",
    "\n",
    "from PIL import Image\n",
    "#import numpy\n",
    "#numpy.set_printoptions(threshold=numpy.nan)\n",
    "import matplotlib.pyplot as plt\n",
    "import matplotlib.patches as patches\n",
    "from scipy import ndimage\n",
    "import scipy\n",
    "import scipy.io as sio\n",
    "#from sklearn.metrics import mean_squared_error\n",
    "import operator\n",
    "import os\n",
    "import dxchange\n",
    "%matplotlib notebook"
   ]
  },
  {
   "cell_type": "code",
   "execution_count": null,
   "metadata": {
    "collapsed": false
   },
   "outputs": [],
   "source": [
    "global dataset_se\n",
    "dataset_se = numpy.zeros([516, 516, 20])\n",
    "global dataset_in\n",
    "dataset_in = numpy.zeros([516, 516, 20])\n",
    "global data_se_mf\n",
    "global data_in_mf\n",
    "#Create the Energy axis corresponding to the Threshold value\n",
    "Energy_Value = [0.0008706*i*i + 0.1*i+3.392 for i in range(47, 147, 10)]\n",
    "#print Energy_Value"
   ]
  },
  {
   "cell_type": "code",
   "execution_count": null,
   "metadata": {
    "collapsed": false
   },
   "outputs": [],
   "source": [
    "data_se, data_in, data_se_mf, data_in_mf = data_initialization(dataset_se, dataset_in)"
   ]
  },
  {
   "cell_type": "code",
   "execution_count": null,
   "metadata": {
    "collapsed": false
   },
   "outputs": [],
   "source": [
    "coords = choose_region('separate')"
   ]
  },
  {
   "cell_type": "code",
   "execution_count": null,
   "metadata": {
    "collapsed": false
   },
   "outputs": [],
   "source": [
    "show_spectrum_region(coords[0], coords[1], 'separate', data_se, data_in, Energy_Value)"
   ]
  },
  {
   "cell_type": "code",
   "execution_count": null,
   "metadata": {
    "collapsed": false
   },
   "outputs": [],
   "source": [
    "show_spectrum_region(coords[0], coords[1], 'separate', data_se_mf, data_in_mf, Energy_Value)"
   ]
  },
  {
   "cell_type": "code",
   "execution_count": null,
   "metadata": {
    "collapsed": false
   },
   "outputs": [],
   "source": [
    "show_average_and_variance(coords[0], coords[1], 'separate', data_se, data_in, Energy_Value)"
   ]
  },
  {
   "cell_type": "code",
   "execution_count": null,
   "metadata": {
    "collapsed": false
   },
   "outputs": [],
   "source": [
    "show_average_and_variance(coords[0], coords[1], 'separate', data_se_mf, data_in_mf, Energy_Value)"
   ]
  },
  {
   "cell_type": "code",
   "execution_count": null,
   "metadata": {
    "collapsed": false,
    "scrolled": true
   },
   "outputs": [],
   "source": [
    "for i in range(1,10):\n",
    "    plt.clf()\n",
    "    plt.cla()\n",
    "    plt.close()\n",
    "    "
   ]
  }
 ],
 "metadata": {
  "kernelspec": {
   "display_name": "Python 2",
   "language": "python",
   "name": "python2"
  },
  "language_info": {
   "codemirror_mode": {
    "name": "ipython",
    "version": 2
   },
   "file_extension": ".py",
   "mimetype": "text/x-python",
   "name": "python",
   "nbconvert_exporter": "python",
   "pygments_lexer": "ipython2",
   "version": "2.7.13"
  }
 },
 "nbformat": 4,
 "nbformat_minor": 2
}
